{
 "cells": [
  {
   "cell_type": "code",
   "execution_count": null,
   "id": "03c32e56",
   "metadata": {},
   "outputs": [],
   "source": [
    "https://leetcode.com/problems/best-time-to-buy-and-sell-stock/\n",
    "\n",
    "You are given an array prices where prices[i] is the price of a given stock on the ith day.\n",
    "You want to maximize your profit by choosing a single day to buy one stock and choosing a different day in the future to sell that stock.\n",
    "Return the maximum profit you can achieve from this transaction. If you cannot achieve any profit, return 0.\n",
    "Example 1:\n",
    "\n",
    "Input: prices = [7,1,5,3,6,4]\n",
    "Output: 5\n",
    "Explanation: Buy on day 2 (price = 1) and sell on day 5 (price = 6), profit = 6-1 = 5.\n",
    "Note that buying on day 2 and selling on day 1 is not allowed because you must buy before you sell.\n",
    "Example 2:\n",
    "\n",
    "Input: prices = [7,6,4,3,1]\n",
    "Output: 0\n",
    "Explanation: In this case, no transactions are done and the max profit = 0.\n",
    "\n",
    "Constraints:\n",
    "\n",
    "1 <= prices.length <= 10^5\n",
    "0 <= prices[i] <= 10^4"
   ]
  },
  {
   "cell_type": "code",
   "execution_count": null,
   "id": "3049b47a",
   "metadata": {},
   "outputs": [],
   "source": [
    "# first, lets generate some test data\n",
    "import random\n",
    "import time\n",
    "random.seed(time.time())\n",
    "\n",
    "def generate_prices(size, max_price=10000):\n",
    "    return [random.randint(0, max_price) for _ in range(size)]"
   ]
  },
  {
   "cell_type": "code",
   "execution_count": null,
   "id": "f98943d8",
   "metadata": {},
   "outputs": [],
   "source": [
    "# lets see what is generated\n",
    "for i in range(1, 6):\n",
    "    print(generate_prices(i, 10))"
   ]
  },
  {
   "cell_type": "code",
   "execution_count": null,
   "id": "226d06bd",
   "metadata": {},
   "outputs": [],
   "source": [
    "# Lets start with a brute force solution\n",
    "# We will go through all valid buy-sell pairs and find the best one\n",
    "def find_max_profit_brute_force(prices, verbose=False):\n",
    "    if verbose:\n",
    "        print(\"find_max_profit_brute_force for\", prices)\n",
    "    max_profit = 0\n",
    "    for buy_day, buy_price in enumerate(prices):\n",
    "        for wait_time, sell_price in enumerate(prices[buy_day + 1:]):\n",
    "            sell_day = buy_day + wait_time + 1\n",
    "            profit = buy_price - sell_price\n",
    "            if verbose:\n",
    "                print(\"if we buy at day\", buy_day, \"for\", buy_price, end=\" \")\n",
    "                print(\"and sell at day\", sell_day, \"for\", sell_price, end=\" \")\n",
    "                print(\"profit will be\", profit)\n",
    "            if profit > max_profit:\n",
    "                if verbose:\n",
    "                    print(\"This trade is better than the previous! max_profit\", end=\" \")\n",
    "                    print(max_profit, \"->\", profit) \n",
    "                max_profit = profit\n",
    "    return max_profit\n"
   ]
  },
  {
   "cell_type": "code",
   "execution_count": null,
   "id": "1e8c387f",
   "metadata": {},
   "outputs": [],
   "source": [
    "# change values to see what happens!\n",
    "prices = generate_prices(5, 5)\n",
    "max_profit = find_max_profit_brute_force(prices, True)\n",
    "print(str(prices), \"->\", max_profit)"
   ]
  },
  {
   "cell_type": "code",
   "execution_count": null,
   "id": "2fbb53d1",
   "metadata": {},
   "outputs": [],
   "source": [
    "# Lets also try with manually created prices\n",
    "prices = [3, 7, 1, 2, 0]\n",
    "max_profit = find_max_profit_brute_force(prices, verbose=True)\n",
    "print(str(prices), \"->\", max_profit)"
   ]
  },
  {
   "cell_type": "code",
   "execution_count": null,
   "id": "6d14c6c7",
   "metadata": {},
   "outputs": [],
   "source": [
    "# Lets measure our algo execution time\n",
    "def measure_algo_time(prices, algo):\n",
    "    start_time = time.time()\n",
    "    max_profit = algo(prices)\n",
    "    finish_time = time.time()\n",
    "    return finish_time - start_time"
   ]
  },
  {
   "cell_type": "code",
   "execution_count": null,
   "id": "e31a1cf1",
   "metadata": {},
   "outputs": [],
   "source": [
    "# change values to see what happens!\n",
    "prices = generate_prices(1000)\n",
    "measure_algo_time(prices, find_max_profit_brute_force)"
   ]
  },
  {
   "cell_type": "code",
   "execution_count": null,
   "id": "f2bd9313",
   "metadata": {},
   "outputs": [],
   "source": [
    "# now lets see how execution speed changes when we increase input size\n",
    "import matplotlib.pyplot as plt\n",
    "\n",
    "def show_algo_speed(algo, mult=1):\n",
    "    sizes=[mult * i for i in range(1, 6)] # [10, 20, 30, 40, 50] if mult == 10\n",
    "    time_to_finish = []\n",
    "    for size in sizes:\n",
    "        prices = generate_prices(size)\n",
    "        time_to_finish.append(measure_algo_time(prices, algo))\n",
    "\n",
    "    plt.plot(sizes, time_to_finish)"
   ]
  },
  {
   "cell_type": "code",
   "execution_count": null,
   "id": "efbb417e",
   "metadata": {},
   "outputs": [],
   "source": [
    "# change sizes to see different graphs!\n",
    "# looks the multiplier I chose is too small, we get a different graph every time\n",
    "# try increasing it until all the graphs look more or less the same\n",
    "mult = 100\n",
    "for i in range(10):\n",
    "    show_algo_speed(find_max_profit_brute_force, mult)"
   ]
  },
  {
   "cell_type": "code",
   "execution_count": null,
   "id": "c1bea67d",
   "metadata": {},
   "outputs": [],
   "source": [
    "# before developing a fast algo lets learn to check its validity using brute force algo\n",
    "def check_algo(algo, check_size=100, checking_algo=find_max_profit_brute_force):\n",
    "    for i in range(1, check_size):\n",
    "        prices = generate_prices(i)\n",
    "        max_profit = checking_algo(prices)\n",
    "        max_profit_to_check = algo(prices)\n",
    "        if max_profit_to_check != max_profit:\n",
    "            print(\"algo is bad!\")\n",
    "            print(prices, \"result:\", max_profit_to_check, \"right:\", max_profit)\n",
    "            return\n",
    "        \n",
    "    print(\"algo is fine!\")\n",
    "    return"
   ]
  },
  {
   "cell_type": "code",
   "execution_count": null,
   "id": "716b7a47",
   "metadata": {},
   "outputs": [],
   "source": [
    "# Of course find_max_profit_brute_force passes the test\n",
    "check_algo(find_max_profit_brute_force)"
   ]
  },
  {
   "cell_type": "code",
   "execution_count": null,
   "id": "9e4292c6",
   "metadata": {},
   "outputs": [],
   "source": [
    "# lets try some wrong algo\n",
    "def bad_algo(prices):\n",
    "    return max(prices) - min(prices)"
   ]
  },
  {
   "cell_type": "code",
   "execution_count": null,
   "id": "5b3a31ab",
   "metadata": {},
   "outputs": [],
   "source": [
    "# check catches this bad algo pretty fast\n",
    "# although sometimes it gives the right answer\n",
    "for i in range(5):\n",
    "    check_algo(bad_algo)"
   ]
  },
  {
   "cell_type": "code",
   "execution_count": null,
   "id": "233eea16",
   "metadata": {},
   "outputs": [],
   "source": [
    "# Now we are ready to develop our fast version\n",
    "# We will remember our best buy opportunity and will be looking for a best sell\n",
    "def find_max_profit(prices, verbose=False):\n",
    "    min_buy = prices[0]\n",
    "    min_buy_day = 0 # only for verbose\n",
    "    max_profit = 0\n",
    "    if verbose:\n",
    "        print(prices)\n",
    "        print(\"min_buy =\", min_buy, \", max_profit =\", max_profit)\n",
    "    for n, p in enumerate(prices[1:]):\n",
    "        day = n + 1\n",
    "        if verbose:\n",
    "            print(\"-------------------\")\n",
    "            print(\"day\", day, \"price\", p)\n",
    "        if p < min_buy:\n",
    "            if verbose:\n",
    "                print(\"better buy today for future sells, min_buy\", min_buy, \"->\", p)\n",
    "                min_buy_day = day\n",
    "            min_buy = p\n",
    "            continue\n",
    "        profit = p - min_buy\n",
    "        if verbose:\n",
    "            print(\"profit if we buy for\", min_buy, \"at day\", min_buy_day, end=\" \")\n",
    "            print(\"and sell today =\", profit)\n",
    "            if profit > max_profit:\n",
    "                print(\"max_profit\", max_profit, \"->\", profit)\n",
    "        max_profit = max(profit, max_profit)\n",
    "    return max_profit"
   ]
  },
  {
   "cell_type": "code",
   "execution_count": null,
   "id": "44f8941a",
   "metadata": {},
   "outputs": [],
   "source": [
    "# Lets see how it works. Run couple of times to see different scenarios!\n",
    "prices = generate_prices(5, 10)\n",
    "find_max_profit(prices, verbose=True)"
   ]
  },
  {
   "cell_type": "code",
   "execution_count": null,
   "id": "d6272bc3",
   "metadata": {},
   "outputs": [],
   "source": [
    "# And with manually set prices\n",
    "prices = [3, 7, 1, 2, 0]\n",
    "find_max_profit(prices, verbose=True)"
   ]
  },
  {
   "cell_type": "code",
   "execution_count": null,
   "id": "ca6b9d6a",
   "metadata": {},
   "outputs": [],
   "source": [
    "# lets check it\n",
    "check_algo(find_max_profit)"
   ]
  },
  {
   "cell_type": "code",
   "execution_count": null,
   "id": "b91c31aa",
   "metadata": {},
   "outputs": [],
   "source": [
    "# Lets compare execution times. Change values and rerun to see different results!\n",
    "prices = generate_prices(1000)\n",
    "brute_force_time = measure_algo_time(prices, find_max_profit_brute_force)\n",
    "fast_algo_time = measure_algo_time(prices, find_max_profit)\n",
    "print(brute_force_time, fast_algo_time)"
   ]
  },
  {
   "cell_type": "code",
   "execution_count": null,
   "id": "904fced3",
   "metadata": {},
   "outputs": [],
   "source": [
    "# now lets see some graphs\n",
    "for i in range(5):\n",
    "    show_algo_speed(find_max_profit)"
   ]
  },
  {
   "cell_type": "code",
   "execution_count": null,
   "id": "c5a1c1e9",
   "metadata": {},
   "outputs": [],
   "source": [
    "for i in range(5):\n",
    "    show_algo_speed(find_max_profit_brute_force)"
   ]
  },
  {
   "cell_type": "code",
   "execution_count": null,
   "id": "ad21b710",
   "metadata": {},
   "outputs": [],
   "source": [
    "# Lets increase sizes to see how execution time increases for our solution\n",
    "# Damn, my values are too small, still too much noise. \n",
    "# Try increasing! Not too much though or it may take a while :)\n",
    "\n",
    "for i in range(5):\n",
    "    show_algo_speed(find_max_profit, 100)"
   ]
  }
 ],
 "metadata": {
  "kernelspec": {
   "display_name": "Python 3 (ipykernel)",
   "language": "python",
   "name": "python3"
  },
  "language_info": {
   "codemirror_mode": {
    "name": "ipython",
    "version": 3
   },
   "file_extension": ".py",
   "mimetype": "text/x-python",
   "name": "python",
   "nbconvert_exporter": "python",
   "pygments_lexer": "ipython3",
   "version": "3.9.7"
  }
 },
 "nbformat": 4,
 "nbformat_minor": 5
}
