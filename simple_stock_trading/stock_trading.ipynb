{
 "cells": [
  {
   "cell_type": "code",
   "execution_count": null,
   "id": "173dccad",
   "metadata": {},
   "outputs": [],
   "source": [
    "# Today we are going to become stock traders!\n",
    "#ru Сегодня мы будем торговать акциями!\n",
    "# Let's choose when to buy and when to sell the stock to maximize profit\n",
    "#ru Давайте попробуем выбрать день покупки и продажи акции для максимизации прибыли\n",
    "from stock_trading_lib import show_strategy\n",
    "\n",
    "# Try to change the numbers in the lines below. Experiment!\n",
    "#ru Попробуйте поменять числа в строках ниже. Поэкспериментируйте!\n",
    "\n",
    "stock_prices = [7, 1, 5, 3, 6, 4, 3] \n",
    "#ru stock == акция\n",
    "# Means that on day 0 we can buy (or sell) a stock for 7$, on day 1 for 1$, etc\n",
    "#ru Означает, что в день 0 мы можем купить (или продать) акцию за 7$, в день 1 за 1$ и тд\n",
    "\n",
    "buy_day = 1 #ru день покупки\n",
    "sell_day = 4 #ru день продажи\n",
    "assert 0 <= buy_day <= sell_day < len(stock_prices) \n",
    "# Do not sell before buying!\n",
    "#ru Не продавайте до того как купите!\n",
    "\n",
    "show_strategy(stock_prices, buy_day, sell_day)\n",
    "#ru show == показать, strategy == стратегия\n",
    "#ru profit == прибыль\n",
    "#ru sell for == продаем за, buy for == покупаем за"
   ]
  },
  {
   "cell_type": "code",
   "execution_count": null,
   "id": "00210537",
   "metadata": {},
   "outputs": [],
   "source": [
    "# Now let's see how the profit is calculated. Experiment with different values!\n",
    "#ru Теперь давайте посмотрим, как вычисляется прибыль\n",
    "stock_prices = [7, 1, 5, 3, 6, 4, 3]\n",
    "buy_day = 1\n",
    "sell_day = 5\n",
    "\n",
    "buy_price = stock_prices[buy_day]\n",
    "sell_price = stock_prices[sell_day]\n",
    "#ru buy_price == цена покупки, sell_price == цена продажи\n",
    "\n",
    "profit = sell_price - buy_price\n",
    "\n",
    "print(\"buy for\", buy_price, \"at day\", buy_day)\n",
    "print(\"sell for\", sell_price, \"at day\", sell_day)\n",
    "print(\"profit is\", profit)\n",
    "show_strategy(stock_prices, buy_day, sell_day)"
   ]
  },
  {
   "cell_type": "code",
   "execution_count": null,
   "id": "ab322d29",
   "metadata": {},
   "outputs": [],
   "source": [
    "# Task 1\n",
    "#ru task == задание\n",
    "# Find a strategy (buy_day and sell_day) which maximizes profit!\n",
    "#ru Найдите strategy (buy_day and sell_day), которая максимизирует profit!\n",
    "\n",
    "# stock_prices = [7, 1, 5, 3, 6, 4]\n",
    "from stock_trading_lib import check_task_1 #ru Проверить задание 1\n",
    "check_task_1(buy_day=0, sell_day=1)"
   ]
  },
  {
   "cell_type": "code",
   "execution_count": null,
   "id": "d842e86a",
   "metadata": {},
   "outputs": [],
   "source": [
    "# Let's automate the experimentation!\n",
    "from random import randint\n",
    "#ru random == случайный, randint == random integer == случайное целое число\n",
    "\n",
    "def generate_random_prices(max_price=10, length=6): #ru сгенерировать случайные цены\n",
    "#ru max_price == максимальная цена, length == длина\n",
    "    prices = [randint(1, max_price) for _ in range(length)]\n",
    "    return prices"
   ]
  },
  {
   "cell_type": "code",
   "execution_count": null,
   "id": "f1a938ea",
   "metadata": {},
   "outputs": [],
   "source": [
    "# Run this multiple times to see different results\n",
    "stock_prices = generate_random_prices()\n",
    "print(stock_prices)"
   ]
  },
  {
   "cell_type": "code",
   "execution_count": null,
   "id": "339360a7",
   "metadata": {},
   "outputs": [],
   "source": [
    "# Run that multiple times too!\n",
    "from stock_trading_lib import show_prices\n",
    "\n",
    "stock_prices = generate_random_prices()\n",
    "print(stock_prices)\n",
    "show_prices(stock_prices)"
   ]
  },
  {
   "cell_type": "code",
   "execution_count": null,
   "id": "899a5cb2",
   "metadata": {},
   "outputs": [],
   "source": [
    "# Try finding the best strategy for some random prices! (1/2) \n",
    "stock_prices = generate_random_prices(10, 5)\n",
    "print(stock_prices)"
   ]
  },
  {
   "cell_type": "code",
   "execution_count": null,
   "id": "82a70b48",
   "metadata": {},
   "outputs": [],
   "source": [
    "# Try finding the best strategy for some random prices! (2/2)\n",
    "from stock_trading_lib import check_strategy\n",
    "\n",
    "check_strategy(prices=stock_prices, buy_day=0, sell_day=1)"
   ]
  },
  {
   "cell_type": "code",
   "execution_count": null,
   "id": "86d8ec4c",
   "metadata": {},
   "outputs": [],
   "source": [
    "# Task 1_5\n",
    "# Now let's try to find the best strategy algorithmically for prices_len == 3\n",
    "# The easiest way will be to compare ALL possible strategies\n",
    "\n",
    "# Change just one symbol to get the right solution!\n",
    "def best_strategy_for_prices_len_3(prices):\n",
    "    assert(len(prices) == 3)\n",
    "\n",
    "    # only 3 possible strategies for len(prices) == 3\n",
    "    all_strategies_3 = [\n",
    "        (0, 1),\n",
    "        (0, 2),\n",
    "        (1, 2)\n",
    "    ]\n",
    "\n",
    "    max_profit = 0\n",
    "    best_buy_day = 0\n",
    "    best_sell_day = 0\n",
    "\n",
    "    for strategy in all_strategies_3:\n",
    "        buy_day = strategy[0]\n",
    "        sell_day = strategy[1]\n",
    "        profit = prices[sell_day] - prices[buy_day]\n",
    "\n",
    "        if profit < max_profit:\n",
    "            best_buy_day = buy_day\n",
    "            best_sell_day = sell_day\n",
    "            max_profit = profit\n",
    "\n",
    "    return max_profit, best_buy_day, best_sell_day\n",
    "\n",
    "check_task_1_5(best_strategy_for_prices_len_3)"
   ]
  },
  {
   "cell_type": "code",
   "execution_count": null,
   "id": "021ac438",
   "metadata": {},
   "outputs": [],
   "source": [
    "# Task 2\n",
    "# Find all strategies for len(prices) == 4\n",
    "from stock_trading_lib import check_task_2\n",
    "\n",
    "# All strategies for len(prices) == 3 can be used here. \n",
    "# Finish the list adding other possible strategies:\n",
    "all_strategies_4 = [\n",
    "    (0, 1),\n",
    "    (0, 2),\n",
    "    (1, 2),\n",
    "]\n",
    "\n",
    "check_task_2(all_strategies_4)"
   ]
  },
  {
   "cell_type": "code",
   "execution_count": null,
   "id": "c7fb1a17",
   "metadata": {},
   "outputs": [],
   "source": [
    "# Task 3\n",
    "# Now let's write a function to find all strategies with the buy_day == 0\n",
    "from stock_trading_lib import check_task_3\n",
    "\n",
    "# Seems like there is an error in my function. Please fix it!\n",
    "def find_all_zero_day_buy_strategies(prices_len):\n",
    "    strategies = []\n",
    "    for sell_day in range(2, prices_len):\n",
    "        strategies.append((0, sell_day))\n",
    "    return strategies\n",
    "\n",
    "for prices_len in range(2, 6):\n",
    "    strategies = find_all_zero_day_buy_strategies(prices_len)\n",
    "    print(\"all zero day buy strategies for prices_len ==\", prices_len, strategies)\n",
    "print(\"----------------------\")\n",
    "check_task_3(find_all_zero_day_buy_strategies)"
   ]
  },
  {
   "cell_type": "code",
   "execution_count": null,
   "id": "04d7b97d",
   "metadata": {},
   "outputs": [],
   "source": [
    "# Task 4\n",
    "# Find all strategies with a given buy_day\n",
    "from stock_trading_lib import check_task_4\n",
    "\n",
    "def find_all_strategies_with_buy_day(prices_len, buy_day):\n",
    "    if buy_day == 0:\n",
    "        return find_all_zero_day_buy_strategies(prices_len)\n",
    "    \n",
    "    strategies = []\n",
    "    return strategies\n",
    "\n",
    "check_task_4(find_all_strategies_with_buy_day)"
   ]
  },
  {
   "cell_type": "code",
   "execution_count": null,
   "id": "606c7444",
   "metadata": {},
   "outputs": [],
   "source": [
    "# Task 5\n",
    "# Finally, let's find ALL the strategies\n",
    "\n",
    "from stock_trading_lib import check_task_5, task_4_solution\n",
    "\n",
    "# I already figured out how to find all the strategies for lenghts 2 and 3.\n",
    "# Generalize this for any length!\n",
    "def find_all_strategies(prices_len):\n",
    "    if prices_len == 2:\n",
    "        return find_all_strategies_with_buy_day(prices_len, 0)\n",
    "    \n",
    "    if prices_len == 3:\n",
    "        strategies = find_all_strategies_with_buy_day(prices_len, 0)\n",
    "        strategies += find_all_strategies_with_buy_day(prices_len, 1)\n",
    "        return strategies\n",
    "    \n",
    "    strategies = []\n",
    "    return strategies\n",
    "\n",
    "check_task_5(find_all_strategies)"
   ]
  },
  {
   "cell_type": "code",
   "execution_count": null,
   "id": "1af88b6e",
   "metadata": {},
   "outputs": [],
   "source": [
    "# Task 6 (brute force solution)\n",
    "from stock_trading_lib import check_task_6 \n",
    "\n",
    "# Check best_strategy_for_prices_len_3 for inspiration ;)\n",
    "def find_max_profit_with_brute_force(prices):\n",
    "    if len(prices) == 3:\n",
    "        return best_strategy_for_prices_len_3(prices)\n",
    "    \n",
    "    max_profit = 0\n",
    "    best_buy_day = 0\n",
    "    best_sell_day = 1\n",
    "    \n",
    "    return max_profit, best_buy_day, best_sell_day\n",
    "\n",
    "check_task_6(find_max_profit_with_brute_force)"
   ]
  }
 ],
 "metadata": {
  "kernelspec": {
   "display_name": "Python 3 (ipykernel)",
   "language": "python",
   "name": "python3"
  },
  "language_info": {
   "codemirror_mode": {
    "name": "ipython",
    "version": 3
   },
   "file_extension": ".py",
   "mimetype": "text/x-python",
   "name": "python",
   "nbconvert_exporter": "python",
   "pygments_lexer": "ipython3",
   "version": "3.9.7"
  }
 },
 "nbformat": 4,
 "nbformat_minor": 5
}
