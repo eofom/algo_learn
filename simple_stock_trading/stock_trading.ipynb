{
 "cells": [
  {
   "cell_type": "code",
   "execution_count": null,
   "id": "82e227ef",
   "metadata": {},
   "outputs": [],
   "source": [
    "# Today we are going to become stock traders!\n",
    "# For a given array of stock prices, let's choose when to buy and when to sell the stock\n",
    "from stock_trading_lib import show_strategy\n",
    "\n",
    "# Try to change the numbers in three lines below. Experiment!\n",
    "stock_prices = [7, 1, 5, 3, 6, 4, 3]\n",
    "buy_day=1\n",
    "sell_day=4\n",
    "assert 0 <= buy_day <= sell_day < len(stock_prices) # do not sell before buying!\n",
    "show_strategy(stock_prices, buy_day, sell_day)"
   ]
  },
  {
   "cell_type": "code",
   "execution_count": null,
   "id": "00210537",
   "metadata": {},
   "outputs": [],
   "source": [
    "# Now let's see how the profit is calculated. Experiment and see!\n",
    "stock_prices = [7, 1, 5, 3, 6, 4, 3]\n",
    "buy_day = 1\n",
    "sell_day = 5\n",
    "\n",
    "buy_price = stock_prices[buy_day]\n",
    "sell_price = stock_prices[sell_day]\n",
    "\n",
    "profit = sell_price - buy_price\n",
    "\n",
    "print(\"buy for\", buy_price, \"at day\", buy_day)\n",
    "print(\"sell for\", sell_price, \"at day\", sell_day)\n",
    "print(\"profit is\", profit)\n",
    "show_strategy(stock_prices, buy_day, sell_day)"
   ]
  },
  {
   "cell_type": "code",
   "execution_count": null,
   "id": "8ccc6a45",
   "metadata": {},
   "outputs": [],
   "source": [
    "# Task 1\n",
    "# Find the best strategy (buy_day and sell_day) to maximize profit!\n",
    "# stock_prices = [7, 1, 5, 3, 6, 4]\n",
    "from stock_trading_lib import check_task_1\n",
    "check_task_1(buy_day=0, sell_day=1)"
   ]
  },
  {
   "cell_type": "code",
   "execution_count": null,
   "id": "671112ec",
   "metadata": {},
   "outputs": [],
   "source": [
    "# Let's automate the experimentation!\n",
    "from random import randint\n",
    "\n",
    "def generate_random_prices(max_price=10, length=6):\n",
    "    prices = [randint(1, max_price) for _ in range(length)]\n",
    "    return prices"
   ]
  },
  {
   "cell_type": "code",
   "execution_count": null,
   "id": "b10d70e2",
   "metadata": {},
   "outputs": [],
   "source": [
    "# Run this multiple times to see different results\n",
    "stock_prices = generate_random_prices()\n",
    "print(stock_prices)"
   ]
  },
  {
   "cell_type": "code",
   "execution_count": null,
   "id": "fdf839c8",
   "metadata": {},
   "outputs": [],
   "source": [
    "# Run that multiple times too!\n",
    "from stock_trading_lib import show_prices\n",
    "\n",
    "stock_prices = generate_random_prices()\n",
    "print(stock_prices)\n",
    "show_prices(stock_prices)"
   ]
  },
  {
   "cell_type": "code",
   "execution_count": null,
   "id": "43268261",
   "metadata": {},
   "outputs": [],
   "source": [
    "# Try finding the best strategy for some random prices! (1/2) \n",
    "stock_prices = generate_random_prices(10, 5)\n",
    "print(stock_prices)"
   ]
  },
  {
   "cell_type": "code",
   "execution_count": null,
   "id": "d8b6c0af",
   "metadata": {},
   "outputs": [],
   "source": [
    "# Try finding the best strategy for some random prices! (2/2)\n",
    "from stock_trading_lib import check_strategy\n",
    "\n",
    "check_strategy(prices=stock_prices, buy_day=0, sell_day=1)"
   ]
  },
  {
   "cell_type": "code",
   "execution_count": null,
   "id": "86d8ec4c",
   "metadata": {},
   "outputs": [],
   "source": [
    "# Task 1_5\n",
    "# Now let's try to find the best strategy algorithmically for prices_len == 3\n",
    "# The easiest way will be to compare ALL possible strategies\n",
    "\n",
    "# Change just one symbol to get the right solution!\n",
    "def best_strategy_for_prices_len_3(prices):\n",
    "    assert(len(prices) == 3)\n",
    "\n",
    "    # only 3 possible strategies for len(prices) == 3\n",
    "    all_strategies_3 = [\n",
    "        (0, 1),\n",
    "        (0, 2),\n",
    "        (1, 2)\n",
    "    ]\n",
    "\n",
    "    max_profit = 0\n",
    "    best_buy_day = 0\n",
    "    best_sell_day = 0\n",
    "\n",
    "    for strategy in all_strategies_3:\n",
    "        buy_day = strategy[0]\n",
    "        sell_day = strategy[1]\n",
    "        profit = prices[sell_day] - prices[buy_day]\n",
    "\n",
    "        if profit < max_profit:\n",
    "            best_buy_day = buy_day\n",
    "            best_sell_day = sell_day\n",
    "            max_profit = profit\n",
    "\n",
    "    return max_profit, best_buy_day, best_sell_day\n",
    "\n",
    "check_task_1_5(best_strategy_for_prices_len_3)"
   ]
  },
  {
   "cell_type": "code",
   "execution_count": null,
   "id": "57f56021",
   "metadata": {},
   "outputs": [],
   "source": [
    "# Task 2\n",
    "# Find all strategies for len(prices) == 4\n",
    "from stock_trading_lib import check_task_2\n",
    "\n",
    "# All strategies for len(prices) == 3 can be used here. \n",
    "# Finish the list adding other possible strategies:\n",
    "all_strategies_4 = [\n",
    "    (0, 1),\n",
    "    (0, 2),\n",
    "    (1, 2),\n",
    "]\n",
    "\n",
    "check_task_2(all_strategies_4)"
   ]
  },
  {
   "cell_type": "code",
   "execution_count": null,
   "id": "22b836e7",
   "metadata": {},
   "outputs": [],
   "source": [
    "# Task 3\n",
    "# Now let's write a function to find all strategies with the buy_day == 0\n",
    "from stock_trading_lib import check_task_3\n",
    "\n",
    "# Seems like there is an error in my function. Please fix it!\n",
    "def find_all_zero_day_buy_strategies(prices_len):\n",
    "    strategies = []\n",
    "    for sell_day in range(2, prices_len):\n",
    "        strategies.append((0, sell_day))\n",
    "    return strategies\n",
    "\n",
    "for prices_len in range(2, 6):\n",
    "    strategies = find_all_zero_day_buy_strategies(prices_len)\n",
    "    print(\"all zero day buy strategies for prices_len ==\", prices_len, strategies)\n",
    "print(\"----------------------\")\n",
    "check_task_3(find_all_zero_day_buy_strategies)"
   ]
  },
  {
   "cell_type": "code",
   "execution_count": null,
   "id": "a3d0fa4c",
   "metadata": {},
   "outputs": [],
   "source": [
    "# Task 4\n",
    "# Find all strategies with a given buy_day\n",
    "from stock_trading_lib import check_task_4\n",
    "\n",
    "def find_all_strategies_with_buy_day(prices_len, buy_day):\n",
    "    if buy_day == 0:\n",
    "        return find_all_zero_day_buy_strategies(prices_len)\n",
    "    \n",
    "    strategies = []\n",
    "    return strategies\n",
    "\n",
    "check_task_4(find_all_strategies_with_buy_day)"
   ]
  },
  {
   "cell_type": "code",
   "execution_count": null,
   "id": "5c068dc8",
   "metadata": {},
   "outputs": [],
   "source": [
    "# Task 5\n",
    "# Finally, let's find ALL the strategies\n",
    "\n",
    "from stock_trading_lib import check_task_5, task_4_solution\n",
    "\n",
    "# I already figured out how to find all the strategies for lenghts 2 and 3.\n",
    "# Generalize this for any length!\n",
    "def find_all_strategies(prices_len):\n",
    "    if prices_len == 2:\n",
    "        return find_all_strategies_with_buy_day(prices_len, 0)\n",
    "    \n",
    "    if prices_len == 3:\n",
    "        strategies = find_all_strategies_with_buy_day(prices_len, 0)\n",
    "        strategies += find_all_strategies_with_buy_day(prices_len, 1)\n",
    "        return strategies\n",
    "    \n",
    "    strategies = []\n",
    "    return strategies\n",
    "\n",
    "check_task_5(find_all_strategies)"
   ]
  },
  {
   "cell_type": "code",
   "execution_count": null,
   "id": "430981f2",
   "metadata": {},
   "outputs": [],
   "source": [
    "# Task 6 (brute force solution)\n",
    "from stock_trading_lib import check_task_6 \n",
    "\n",
    "# Check best_strategy_for_prices_len_3 for inspiration ;)\n",
    "def find_max_profit_with_brute_force(prices):\n",
    "    if len(prices) == 3:\n",
    "        return best_strategy_for_prices_len_3(prices)\n",
    "    \n",
    "    max_profit = 0\n",
    "    best_buy_day = 0\n",
    "    best_sell_day = 1\n",
    "    \n",
    "    return max_profit, best_buy_day, best_sell_day\n",
    "\n",
    "check_task_6(find_max_profit_with_brute_force)"
   ]
  }
 ],
 "metadata": {
  "kernelspec": {
   "display_name": "Python 3 (ipykernel)",
   "language": "python",
   "name": "python3"
  },
  "language_info": {
   "codemirror_mode": {
    "name": "ipython",
    "version": 3
   },
   "file_extension": ".py",
   "mimetype": "text/x-python",
   "name": "python",
   "nbconvert_exporter": "python",
   "pygments_lexer": "ipython3",
   "version": "3.9.7"
  }
 },
 "nbformat": 4,
 "nbformat_minor": 5
}
