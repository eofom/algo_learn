{
 "cells": [
  {
   "cell_type": "code",
   "execution_count": 35,
   "id": "2ed4fc25",
   "metadata": {},
   "outputs": [],
   "source": [
    "# linear complexity, O(n)\n",
    "def unsorted_max(array):\n",
    "    result = None\n",
    "    for element in array:\n",
    "        if result is None or element > result:\n",
    "            result = element\n",
    "    return result"
   ]
  },
  {
   "cell_type": "code",
   "execution_count": 36,
   "id": "92fdec64",
   "metadata": {},
   "outputs": [
    {
     "data": {
      "text/plain": [
       "9"
      ]
     },
     "execution_count": 36,
     "metadata": {},
     "output_type": "execute_result"
    }
   ],
   "source": [
    "unsorted_array = [2, 4, 1, 0, 9, -8]\n",
    "unsorted_max(unsorted_array)"
   ]
  },
  {
   "cell_type": "code",
   "execution_count": 37,
   "id": "1a72939c",
   "metadata": {},
   "outputs": [],
   "source": [
    "# linear complexity, O(n)\n",
    "def unsorted_contains(array, value):\n",
    "    for element in array:\n",
    "        if element == value:\n",
    "            return True\n",
    "    return False"
   ]
  },
  {
   "cell_type": "code",
   "execution_count": 38,
   "id": "98b64725",
   "metadata": {},
   "outputs": [
    {
     "data": {
      "text/plain": [
       "False"
      ]
     },
     "execution_count": 38,
     "metadata": {},
     "output_type": "execute_result"
    }
   ],
   "source": [
    "unsorted_array = [2, 4, 1, 0, 9, -8]\n",
    "unsorted_contains(unsorted_array, 5)"
   ]
  },
  {
   "cell_type": "code",
   "execution_count": 39,
   "id": "e77f6a2d",
   "metadata": {},
   "outputs": [],
   "source": [
    "# Bubble sort, square complexity, O(n^2)\n",
    "# https://www.youtube.com/watch?v=xli_FI7CuzA\n",
    "def swap(array, i, j):\n",
    "    c = array[i]\n",
    "    array[i] = array[j]\n",
    "    array[j] = c\n",
    "\n",
    "def sort_two(array, i, j):\n",
    "    if array[i] > array[j]:\n",
    "        swap(array, i, j)\n",
    "    \n",
    "def sort_with_next(array, i):\n",
    "    sort_two(array, i, i + 1)\n",
    "\n",
    "# linear complexity, O(n)\n",
    "def bubble_nth_largest(array, n):\n",
    "    nth_largest_position = len(array) - n # len(array)-1 for the largest, len(array)-2 for the second largest, etc\n",
    "    for j in range(nth_largest_position - 1):\n",
    "        sort_with_next(array, j)\n",
    "    # now, array[nth_largest_position] >= array[i] for every i < nth_largest_position\n",
    "    \n",
    "def bubble_sort(array):\n",
    "    for rank in range(len(array) - 1): # rank==0 -- largest, rank==1 -- second largest, etc\n",
    "        bubble_nth_largest(array, rank)"
   ]
  },
  {
   "cell_type": "code",
   "execution_count": 40,
   "id": "23906e73",
   "metadata": {},
   "outputs": [
    {
     "data": {
      "text/plain": [
       "[-8, 0, 1, 2, 4, 9]"
      ]
     },
     "execution_count": 40,
     "metadata": {},
     "output_type": "execute_result"
    }
   ],
   "source": [
    "unsorted_array = [2, 4, 1, 0, 9, -8]\n",
    "bubble_sort(unsorted_array)\n",
    "unsorted_array"
   ]
  },
  {
   "cell_type": "code",
   "execution_count": 41,
   "id": "d89683c9",
   "metadata": {},
   "outputs": [],
   "source": [
    "# constant complexity, O(1)\n",
    "def sorted_max(array):\n",
    "    return array[-1] if array else None"
   ]
  },
  {
   "cell_type": "code",
   "execution_count": 42,
   "id": "b88411f4",
   "metadata": {},
   "outputs": [
    {
     "data": {
      "text/plain": [
       "9"
      ]
     },
     "execution_count": 42,
     "metadata": {},
     "output_type": "execute_result"
    }
   ],
   "source": [
    "sorted_array = [-8, 0, 1, 2, 4, 9]\n",
    "sorted_max(sorted_array)"
   ]
  },
  {
   "cell_type": "code",
   "execution_count": 79,
   "id": "7c41458b",
   "metadata": {},
   "outputs": [],
   "source": [
    "# log complexity\n",
    "\n",
    "# constant complexity\n",
    "def sorted_contains_in_range(array, range_from, range_to, value):\n",
    "    return array[range_from] <= value <= array[range_to - 1]\n",
    "\n",
    "def range_size(range_from, range_to):\n",
    "    return range_from - range_to\n",
    "\n",
    "def range_middle(range_from, range_to):\n",
    "    return (range_from + range_to) // 2\n",
    "\n",
    "def sorted_contains(array, value):\n",
    "    if not array:\n",
    "        return False\n",
    "    lower_bound = 0\n",
    "    upper_bound = len(array)\n",
    "\n",
    "    bounds_size_estimate = len(array) * 2\n",
    "    \n",
    "    while range_size(lower_bound, upper_bound) > 1: \n",
    "        assert(range_size(lower_bound, upper_bound) <= bounds_size_estimate)\n",
    "        bounds_size_estimate /= 2\n",
    "        # at this point we know that if value is inside array, it is in range(lower_bound, upper_bound)\n",
    "        # [0, ..., lower_bound, ..., middle, ..., upper_bound, ..., len(a) - 1]\n",
    "        middle = range_middle(lower_bound, upper_bound)\n",
    "        if sorted_contains_in_range(array, lower_bound, middle, value):\n",
    "            # [0, ..., lower_bound, ...<value might be here>..., middle, ..., upper_bound, ..., len(a) - 1]\n",
    "            upper_bound = middle\n",
    "        else:\n",
    "            # [0, ..., lower_bound, ..., middle, ...<value might be here>..., upper_bound, ..., len(a) - 1]\n",
    "            lower_bound = middle\n",
    "    assert(bounds_size_estimate >= 1) # log == amount of times a number could be divided by two before it reaches 1\n",
    "    return array[lower_bound] == value"
   ]
  },
  {
   "cell_type": "code",
   "execution_count": 80,
   "id": "e9b13a8e",
   "metadata": {},
   "outputs": [
    {
     "name": "stdout",
     "output_type": "stream",
     "text": [
      "0 False\n",
      "1 False\n",
      "2 False\n",
      "3 False\n",
      "4 False\n",
      "5 False\n",
      "6 False\n",
      "7 False\n",
      "8 False\n",
      "9 False\n",
      "10 False\n",
      "11 False\n"
     ]
    }
   ],
   "source": [
    "sorted_array = [-8, 0, 1, 2, 4, 9, 11]\n",
    "for i in range(12):\n",
    "    print(i, sorted_contains(sorted_array, i))"
   ]
  },
  {
   "cell_type": "code",
   "execution_count": 101,
   "id": "7906585e",
   "metadata": {},
   "outputs": [
    {
     "name": "stdout",
     "output_type": "stream",
     "text": [
      "True\n",
      "2047 2047\n"
     ]
    }
   ],
   "source": [
    "# Nsum problem\n",
    "# For an array A and a value V, determine whether some elements of A sum up to V\n",
    "# https://en.wikipedia.org/wiki/Subset_sum_problem\n",
    "\n",
    "class Counter:\n",
    "    def __init__(self):\n",
    "        self.count = 0\n",
    "\n",
    "counter = Counter()\n",
    "        \n",
    "def nsum_on_prefix(array, target, size):\n",
    "    counter.count += 1\n",
    "    if size == 0:\n",
    "        return target == 0\n",
    "    nsum_not_taking_last = nsum_on_prefix(array, target, size - 1)\n",
    "    target_if_taking_last = target - array[size - 1]\n",
    "    nsum_taking_last = nsum_on_prefix(array, target_if_taking_last, size - 1)\n",
    "    return nsum_taking_last or nsum_not_taking_last\n",
    "        \n",
    "def nsum(array, target):\n",
    "    return nsum_on_prefix(array, target, len(array))\n",
    "\n",
    "N = 10\n",
    "print(nsum(list(range(N)), 11))\n",
    "\n",
    "print(counter.count, pow(2, N + 1) - 1)\n"
   ]
  },
  {
   "cell_type": "code",
   "execution_count": 90,
   "id": "76f52dd7",
   "metadata": {},
   "outputs": [
    {
     "data": {
      "text/plain": [
       "False"
      ]
     },
     "execution_count": 90,
     "metadata": {},
     "output_type": "execute_result"
    }
   ],
   "source": []
  },
  {
   "cell_type": "code",
   "execution_count": 83,
   "id": "82371554",
   "metadata": {},
   "outputs": [
    {
     "data": {
      "text/plain": [
       "[1, 2]"
      ]
     },
     "execution_count": 83,
     "metadata": {},
     "output_type": "execute_result"
    }
   ],
   "source": [
    "def check(a):\n",
    "    a[0] = 5\n",
    "check(l[:1])\n",
    "l"
   ]
  },
  {
   "cell_type": "code",
   "execution_count": null,
   "id": "8cf6175c",
   "metadata": {},
   "outputs": [],
   "source": []
  }
 ],
 "metadata": {
  "kernelspec": {
   "display_name": "Python 3 (ipykernel)",
   "language": "python",
   "name": "python3"
  },
  "language_info": {
   "codemirror_mode": {
    "name": "ipython",
    "version": 3
   },
   "file_extension": ".py",
   "mimetype": "text/x-python",
   "name": "python",
   "nbconvert_exporter": "python",
   "pygments_lexer": "ipython3",
   "version": "3.10.9"
  }
 },
 "nbformat": 4,
 "nbformat_minor": 5
}
